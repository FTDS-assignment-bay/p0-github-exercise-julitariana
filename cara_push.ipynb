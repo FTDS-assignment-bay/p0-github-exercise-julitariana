{
 "cells": [
  {
   "cell_type": "markdown",
   "metadata": {},
   "source": [
    "# Cara Clone Repository"
   ]
  },
  {
   "cell_type": "code",
   "execution_count": null,
   "metadata": {},
   "outputs": [],
   "source": [
    "Ada 2 cara untuk clone:\n",
    "- melalui https (flexible, bisa berbagai device)\n",
    "- melalui ssh (secure kalau yang pakai device kita aja) (perlu setup!)\n",
    "\n",
    "Cara clone, \n",
    "- `git clone <url repository>`\n",
    "- akan berbeda urlnya untuk ssh tapi caranya sama"
   ]
  },
  {
   "cell_type": "markdown",
   "metadata": {},
   "source": [
    "# Cara Add perubahan local ke repository"
   ]
  },
  {
   "cell_type": "markdown",
   "metadata": {},
   "source": [
    "1. Untuk acek status repository gunakan `git status`\n",
    "2. Lakukan `git add <nama file>` <nama file> bisa diganti dengan `.` untuk representasi semua file \n",
    "3. Untuk commit hasil staging gunakan `git commit -m \"maukan message commitnya\"` message commit biasanya berupa apa yang berubah atau ditambahkan\n",
    "4. Untuk sinkronisasi ke repository dari local, gunakan `git push`"
   ]
  },
  {
   "cell_type": "markdown",
   "metadata": {},
   "source": []
  }
 ],
 "metadata": {
  "language_info": {
   "name": "python"
  },
  "orig_nbformat": 4
 },
 "nbformat": 4,
 "nbformat_minor": 2
}
